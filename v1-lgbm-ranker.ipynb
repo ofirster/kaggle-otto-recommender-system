{
 "cells": [
  {
   "cell_type": "markdown",
   "id": "056bb918",
   "metadata": {
    "papermill": {
     "duration": 0.011896,
     "end_time": "2025-04-06T13:00:50.638415",
     "exception": false,
     "start_time": "2025-04-06T13:00:50.626519",
     "status": "completed"
    },
    "tags": []
   },
   "source": [
    "# Version 1 - Using LGBM Ranker (Score 0.48477)"
   ]
  },
  {
   "cell_type": "markdown",
   "id": "71daf0b1",
   "metadata": {
    "_cell_guid": "b1076dfc-b9ad-4769-8c92-a6c4dae69d19",
    "_uuid": "8f2839f25d086af736a60e9eeb907d3b93b6e0e5",
    "papermill": {
     "duration": 0.007594,
     "end_time": "2025-04-06T13:00:50.655465",
     "exception": false,
     "start_time": "2025-04-06T13:00:50.647871",
     "status": "completed"
    },
    "tags": []
   },
   "source": [
    "In this notebook, we introduce our first approach - training LGBM Ranker for our recommendation system.\n",
    "\n",
    "Our goal is to predict which items users are most likely to interact with next (via clicks, carts, or orders) based on their session behavior.\n",
    "\n",
    "To simplify experimentation and improve reproducibility, we work with a preprocessed version of the OTTO dataset provided in parquet format, eliminating the need to parse raw JSONL files. This setup allows for faster iteration and local validation.\n",
    "\n",
    "We extract behavioral patterns and session dynamics by engineering features such as:\n",
    "\n",
    "* The reverse chronological position of each action in the session\n",
    "* The total number of actions per session\n",
    "* A log-scaled recency score based on both the order and timestamp of interactions\n",
    "* A type-weighted recency score, reflecting the importance of clicks, carts, and orders\n",
    "\n",
    "These features are designed to capture both recency and interaction strength, helping the model learn user intent over time. After feature generation, we train a LightGBM Ranker to prioritize the most relevant items per session.\n",
    "\n",
    "Some features such as total clicks, carts, and orders per session, session duration, session-level conversion rate, and aid interaction count were tested but did not lead to measurable improvements in model performance. However, we have kept these features in the notebook.\n"
   ]
  },
  {
   "cell_type": "markdown",
   "id": "83b410f6",
   "metadata": {
    "papermill": {
     "duration": 0.009384,
     "end_time": "2025-04-06T13:00:50.673198",
     "exception": false,
     "start_time": "2025-04-06T13:00:50.663814",
     "status": "completed"
    },
    "tags": []
   },
   "source": [
    "# Data Processing"
   ]
  },
  {
   "cell_type": "code",
   "execution_count": 1,
   "id": "225d03f7",
   "metadata": {
    "execution": {
     "iopub.execute_input": "2025-04-06T13:00:50.691121Z",
     "iopub.status.busy": "2025-04-06T13:00:50.690665Z",
     "iopub.status.idle": "2025-04-06T13:01:04.615857Z",
     "shell.execute_reply": "2025-04-06T13:01:04.614647Z"
    },
    "papermill": {
     "duration": 13.93738,
     "end_time": "2025-04-06T13:01:04.618662",
     "exception": false,
     "start_time": "2025-04-06T13:00:50.681282",
     "status": "completed"
    },
    "tags": []
   },
   "outputs": [
    {
     "name": "stdout",
     "output_type": "stream",
     "text": [
      "Collecting polars==0.18.4\r\n",
      "  Downloading polars-0.18.4-cp37-abi3-manylinux_2_17_x86_64.manylinux2014_x86_64.whl (18.9 MB)\r\n",
      "\u001b[2K     \u001b[90m━━━━━━━━━━━━━━━━━━━━━━━━━━━━━━━━━━━━━━━━\u001b[0m \u001b[32m18.9/18.9 MB\u001b[0m \u001b[31m42.4 MB/s\u001b[0m eta \u001b[36m0:00:00\u001b[0m\r\n",
      "\u001b[?25hRequirement already satisfied: typing_extensions>=4.0.1 in /opt/conda/lib/python3.7/site-packages (from polars==0.18.4) (4.4.0)\r\n",
      "Installing collected packages: polars\r\n",
      "Successfully installed polars-0.18.4\r\n",
      "\u001b[33mWARNING: Running pip as the 'root' user can result in broken permissions and conflicting behaviour with the system package manager. It is recommended to use a virtual environment instead: https://pip.pypa.io/warnings/venv\u001b[0m\u001b[33m\r\n",
      "\u001b[0m"
     ]
    }
   ],
   "source": [
    "!pip install polars==0.18.4\n",
    "# This version is necessary"
   ]
  },
  {
   "cell_type": "code",
   "execution_count": 2,
   "id": "a7605378",
   "metadata": {
    "execution": {
     "iopub.execute_input": "2025-04-06T13:01:04.639766Z",
     "iopub.status.busy": "2025-04-06T13:01:04.638736Z",
     "iopub.status.idle": "2025-04-06T13:01:04.712152Z",
     "shell.execute_reply": "2025-04-06T13:01:04.711222Z"
    },
    "papermill": {
     "duration": 0.086425,
     "end_time": "2025-04-06T13:01:04.714567",
     "exception": false,
     "start_time": "2025-04-06T13:01:04.628142",
     "status": "completed"
    },
    "tags": []
   },
   "outputs": [],
   "source": [
    "import polars as pl"
   ]
  },
  {
   "cell_type": "code",
   "execution_count": 3,
   "id": "ec45ce9d",
   "metadata": {
    "execution": {
     "iopub.execute_input": "2025-04-06T13:01:04.733982Z",
     "iopub.status.busy": "2025-04-06T13:01:04.733622Z",
     "iopub.status.idle": "2025-04-06T13:01:16.187253Z",
     "shell.execute_reply": "2025-04-06T13:01:16.186098Z"
    },
    "papermill": {
     "duration": 11.466604,
     "end_time": "2025-04-06T13:01:16.189986",
     "exception": false,
     "start_time": "2025-04-06T13:01:04.723382",
     "status": "completed"
    },
    "tags": []
   },
   "outputs": [],
   "source": [
    "train = pl.read_parquet('../input/otto-train-and-test-data-for-local-validation/test.parquet')\n",
    "train_labels = pl.read_parquet('../input/otto-train-and-test-data-for-local-validation/test_labels.parquet')\n",
    "testing = pl.read_parquet('../input/otto-train-and-test-data-for-local-validation/train.parquet')"
   ]
  },
  {
   "cell_type": "code",
   "execution_count": 4,
   "id": "826f1de9",
   "metadata": {
    "execution": {
     "iopub.execute_input": "2025-04-06T13:01:16.209796Z",
     "iopub.status.busy": "2025-04-06T13:01:16.208993Z",
     "iopub.status.idle": "2025-04-06T13:01:16.220135Z",
     "shell.execute_reply": "2025-04-06T13:01:16.219034Z"
    },
    "papermill": {
     "duration": 0.023217,
     "end_time": "2025-04-06T13:01:16.222177",
     "exception": false,
     "start_time": "2025-04-06T13:01:16.198960",
     "status": "completed"
    },
    "tags": []
   },
   "outputs": [
    {
     "data": {
      "text/html": [
       "<div><style>\n",
       ".dataframe > thead > tr > th,\n",
       ".dataframe > tbody > tr > td {\n",
       "  text-align: right;\n",
       "}\n",
       "</style>\n",
       "<small>shape: (5, 4)</small><table border=\"1\" class=\"dataframe\"><thead><tr><th>session</th><th>aid</th><th>ts</th><th>type</th></tr><tr><td>i32</td><td>i32</td><td>i32</td><td>u8</td></tr></thead><tbody><tr><td>11098528</td><td>11830</td><td>1661119200</td><td>0</td></tr><tr><td>11098529</td><td>1105029</td><td>1661119200</td><td>0</td></tr><tr><td>11098530</td><td>264500</td><td>1661119200</td><td>0</td></tr><tr><td>11098530</td><td>264500</td><td>1661119288</td><td>0</td></tr><tr><td>11098530</td><td>409236</td><td>1661119369</td><td>0</td></tr></tbody></table></div>"
      ],
      "text/plain": [
       "shape: (5, 4)\n",
       "┌──────────┬─────────┬────────────┬──────┐\n",
       "│ session  ┆ aid     ┆ ts         ┆ type │\n",
       "│ ---      ┆ ---     ┆ ---        ┆ ---  │\n",
       "│ i32      ┆ i32     ┆ i32        ┆ u8   │\n",
       "╞══════════╪═════════╪════════════╪══════╡\n",
       "│ 11098528 ┆ 11830   ┆ 1661119200 ┆ 0    │\n",
       "│ 11098529 ┆ 1105029 ┆ 1661119200 ┆ 0    │\n",
       "│ 11098530 ┆ 264500  ┆ 1661119200 ┆ 0    │\n",
       "│ 11098530 ┆ 264500  ┆ 1661119288 ┆ 0    │\n",
       "│ 11098530 ┆ 409236  ┆ 1661119369 ┆ 0    │\n",
       "└──────────┴─────────┴────────────┴──────┘"
      ]
     },
     "execution_count": 4,
     "metadata": {},
     "output_type": "execute_result"
    }
   ],
   "source": [
    "train.head()\n"
   ]
  },
  {
   "cell_type": "code",
   "execution_count": 5,
   "id": "1966e6ea",
   "metadata": {
    "execution": {
     "iopub.execute_input": "2025-04-06T13:01:16.241315Z",
     "iopub.status.busy": "2025-04-06T13:01:16.240946Z",
     "iopub.status.idle": "2025-04-06T13:01:16.248391Z",
     "shell.execute_reply": "2025-04-06T13:01:16.247334Z"
    },
    "papermill": {
     "duration": 0.019501,
     "end_time": "2025-04-06T13:01:16.250594",
     "exception": false,
     "start_time": "2025-04-06T13:01:16.231093",
     "status": "completed"
    },
    "tags": []
   },
   "outputs": [
    {
     "data": {
      "text/html": [
       "<div><style>\n",
       ".dataframe > thead > tr > th,\n",
       ".dataframe > tbody > tr > td {\n",
       "  text-align: right;\n",
       "}\n",
       "</style>\n",
       "<small>shape: (5, 4)</small><table border=\"1\" class=\"dataframe\"><thead><tr><th>session</th><th>aid</th><th>ts</th><th>type</th></tr><tr><td>i32</td><td>i32</td><td>i32</td><td>u8</td></tr></thead><tbody><tr><td>0</td><td>1517085</td><td>1659304800</td><td>0</td></tr><tr><td>0</td><td>1563459</td><td>1659304904</td><td>0</td></tr><tr><td>0</td><td>1309446</td><td>1659367439</td><td>0</td></tr><tr><td>0</td><td>16246</td><td>1659367719</td><td>0</td></tr><tr><td>0</td><td>1781822</td><td>1659367871</td><td>0</td></tr></tbody></table></div>"
      ],
      "text/plain": [
       "shape: (5, 4)\n",
       "┌─────────┬─────────┬────────────┬──────┐\n",
       "│ session ┆ aid     ┆ ts         ┆ type │\n",
       "│ ---     ┆ ---     ┆ ---        ┆ ---  │\n",
       "│ i32     ┆ i32     ┆ i32        ┆ u8   │\n",
       "╞═════════╪═════════╪════════════╪══════╡\n",
       "│ 0       ┆ 1517085 ┆ 1659304800 ┆ 0    │\n",
       "│ 0       ┆ 1563459 ┆ 1659304904 ┆ 0    │\n",
       "│ 0       ┆ 1309446 ┆ 1659367439 ┆ 0    │\n",
       "│ 0       ┆ 16246   ┆ 1659367719 ┆ 0    │\n",
       "│ 0       ┆ 1781822 ┆ 1659367871 ┆ 0    │\n",
       "└─────────┴─────────┴────────────┴──────┘"
      ]
     },
     "execution_count": 5,
     "metadata": {},
     "output_type": "execute_result"
    }
   ],
   "source": [
    "testing.head()"
   ]
  },
  {
   "cell_type": "code",
   "execution_count": 6,
   "id": "d4d95aab",
   "metadata": {
    "execution": {
     "iopub.execute_input": "2025-04-06T13:01:16.269678Z",
     "iopub.status.busy": "2025-04-06T13:01:16.269275Z",
     "iopub.status.idle": "2025-04-06T13:01:16.276731Z",
     "shell.execute_reply": "2025-04-06T13:01:16.275552Z"
    },
    "papermill": {
     "duration": 0.019387,
     "end_time": "2025-04-06T13:01:16.278825",
     "exception": false,
     "start_time": "2025-04-06T13:01:16.259438",
     "status": "completed"
    },
    "tags": []
   },
   "outputs": [
    {
     "data": {
      "text/html": [
       "<div><style>\n",
       ".dataframe > thead > tr > th,\n",
       ".dataframe > tbody > tr > td {\n",
       "  text-align: right;\n",
       "}\n",
       "</style>\n",
       "<small>shape: (5, 3)</small><table border=\"1\" class=\"dataframe\"><thead><tr><th>session</th><th>type</th><th>ground_truth</th></tr><tr><td>i64</td><td>str</td><td>list[i64]</td></tr></thead><tbody><tr><td>11098528</td><td>&quot;clicks&quot;</td><td>[1679529]</td></tr><tr><td>11098528</td><td>&quot;carts&quot;</td><td>[1199737]</td></tr><tr><td>11098528</td><td>&quot;orders&quot;</td><td>[990658, 950341, … 1033148]</td></tr><tr><td>11098529</td><td>&quot;clicks&quot;</td><td>[1105029]</td></tr><tr><td>11098530</td><td>&quot;orders&quot;</td><td>[409236]</td></tr></tbody></table></div>"
      ],
      "text/plain": [
       "shape: (5, 3)\n",
       "┌──────────┬────────┬─────────────────────────────┐\n",
       "│ session  ┆ type   ┆ ground_truth                │\n",
       "│ ---      ┆ ---    ┆ ---                         │\n",
       "│ i64      ┆ str    ┆ list[i64]                   │\n",
       "╞══════════╪════════╪═════════════════════════════╡\n",
       "│ 11098528 ┆ clicks ┆ [1679529]                   │\n",
       "│ 11098528 ┆ carts  ┆ [1199737]                   │\n",
       "│ 11098528 ┆ orders ┆ [990658, 950341, … 1033148] │\n",
       "│ 11098529 ┆ clicks ┆ [1105029]                   │\n",
       "│ 11098530 ┆ orders ┆ [409236]                    │\n",
       "└──────────┴────────┴─────────────────────────────┘"
      ]
     },
     "execution_count": 6,
     "metadata": {},
     "output_type": "execute_result"
    }
   ],
   "source": [
    "train_labels.head()"
   ]
  },
  {
   "cell_type": "markdown",
   "id": "f2201a33",
   "metadata": {
    "papermill": {
     "duration": 0.008828,
     "end_time": "2025-04-06T13:01:16.296709",
     "exception": false,
     "start_time": "2025-04-06T13:01:16.287881",
     "status": "completed"
    },
    "tags": []
   },
   "source": [
    "We are calculating the scores that we used for creating co-vistation matrices! We know they carry signal, so let's provde this information to our `LGBM Ranker`!"
   ]
  },
  {
   "cell_type": "code",
   "execution_count": 7,
   "id": "e1819e61",
   "metadata": {
    "execution": {
     "iopub.execute_input": "2025-04-06T13:01:16.317309Z",
     "iopub.status.busy": "2025-04-06T13:01:16.316938Z",
     "iopub.status.idle": "2025-04-06T13:01:16.334763Z",
     "shell.execute_reply": "2025-04-06T13:01:16.333867Z"
    },
    "papermill": {
     "duration": 0.030799,
     "end_time": "2025-04-06T13:01:16.337129",
     "exception": false,
     "start_time": "2025-04-06T13:01:16.306330",
     "status": "completed"
    },
    "tags": []
   },
   "outputs": [],
   "source": [
    "# Adds a column indicating the reverse chronological position of each action in the session\n",
    "def add_action_num_reverse_chrono(df):\n",
    "    return df.select([\n",
    "        pl.col('*'),\n",
    "        pl.col('session').cumcount().reverse().over('session').alias('action_num_reverse_chrono')\n",
    "    ])\n",
    "\n",
    "# Adds a column indicating the total number of actions in each session\n",
    "def add_session_length(df):\n",
    "    return df.select([\n",
    "        pl.col('*'),\n",
    "        pl.col('session').count().over('session').alias('session_length')\n",
    "    ])\n",
    "\n",
    "# Adds a column with the total number of 'click' (type=0) actions in each session\n",
    "def add_session_total_click(df):\n",
    "    return df.with_columns(\n",
    "        (pl.col('type') == 0).sum().over('session').alias('session_total_click')\n",
    "    )\n",
    "\n",
    "# Adds a column with the total number of 'cart' (type=1) actions in each session\n",
    "def add_session_total_cart(df):\n",
    "    return df.with_columns(\n",
    "        (pl.col('type') == 1).sum().over('session').alias('session_total_cart')\n",
    "    )\n",
    "\n",
    "# Adds a column with the total number of 'order' (type=2) actions in each session\n",
    "def add_session_total_order(df):\n",
    "    return df.with_columns(\n",
    "        (pl.col('type') == 2).sum().over('session').alias('session_total_order')\n",
    "    )\n",
    "\n",
    "# Adds a column that scores recency using a logarithmic scale based on action order\n",
    "def add_log_recency_score(df):\n",
    "    # Higher scores are assigned to more recent actions (based on reverse action number)\n",
    "    linear_interpolation = 0.1 + ((1 - 0.1) / (df['session_length'] - 1)) * (df['session_length'] - df['action_num_reverse_chrono'] - 1)\n",
    "    return df.with_columns(pl.Series(2**linear_interpolation - 1).alias('log_recency_score')).fill_nan(1)\n",
    "\n",
    "# Adds a column that combines interaction type weights with the log recency score\n",
    "def add_type_weighted_log_recency_score(df):\n",
    "    type_weights = {0: 1, 1: 6, 2: 3}  # Click=1, Cart=6, Order=3\n",
    "    # Divide the recency score by the type weight for normalization\n",
    "    type_weighted_log_recency_score = pl.Series(df['log_recency_score'] / df['type'].apply(lambda x: type_weights[x]))\n",
    "    return df.with_columns(type_weighted_log_recency_score.alias('type_weighted_log_recency_score'))\n",
    "\n",
    "# Adds the session duration (max timestamp - min timestamp) for each session\n",
    "def add_session_duration(df):\n",
    "    return df.with_columns(\n",
    "        (pl.col('ts').max().over('session') - pl.col('ts').min().over('session')).alias('session_duration')\n",
    "    )\n",
    "\n",
    "# Adds a timestamp-based recency score using exponential scaling\n",
    "def add_timestamp_log_recency_score(df):\n",
    "    return df.with_columns(\n",
    "        ((2 ** (1 + ((pl.col('ts').max().over('session') - pl.col('ts')) / 10000))) - 1)\n",
    "        .alias('timestamp_log_recency_score')\n",
    "    )\n",
    "\n",
    "# Adds a column that combines type weights with the timestamp-based log recency score\n",
    "def add_type_weighted_timestamp_log_recency_score(df):\n",
    "    type_weights = {0: 1, 1: 6, 2: 3}\n",
    "    type_weighted_timestamp_log_recency_score = pl.Series(df['timestamp_log_recency_score'] / df['type'].apply(lambda x: type_weights[x]))\n",
    "    return df.with_columns(type_weighted_timestamp_log_recency_score.alias('type_weighted_timestamp_log_recency_score'))\n",
    "\n",
    "# Adds a session-level conversion rate feature: orders / (clicks + carts)\n",
    "def add_session_conversion_rate(df):\n",
    "    # Calculate total clicks or carts in the session\n",
    "    aids_clicked_or_cart = (\n",
    "        (pl.col('type') == 0) | (pl.col('type') == 1)\n",
    "    ).sum().over('session').alias('aids_clicked_or_cart')\n",
    "    \n",
    "    # Calculate total orders in the session\n",
    "    aids_ordered = (pl.col('type') == 2).sum().over('session').alias('aids_ordered')\n",
    "    \n",
    "    # Compute conversion rate: orders divided by (clicks + carts)\n",
    "    conversion_rate = (aids_ordered / aids_clicked_or_cart).fill_nan(0).alias('session_conversion_rate')\n",
    "    \n",
    "    return df.with_columns(conversion_rate)\n",
    "\n",
    "# Adds a column counting how many times each aid appears in a session\n",
    "def add_aid_interaction_count(df):\n",
    "    aid_interaction_counts = (\n",
    "        df.groupby(['session', 'aid'])\n",
    "        .agg(pl.count().alias('aid_interaction_count'))\n",
    "    )\n",
    "    return df.join(aid_interaction_counts, on=['session', 'aid'])\n",
    "\n",
    "# Utility to apply a list of feature functions sequentially to a dataframe\n",
    "def apply(df, pipeline):\n",
    "    for f in pipeline:\n",
    "        df = f(df)\n",
    "    return df\n"
   ]
  },
  {
   "cell_type": "code",
   "execution_count": 8,
   "id": "b40a491f",
   "metadata": {
    "execution": {
     "iopub.execute_input": "2025-04-06T13:01:16.356904Z",
     "iopub.status.busy": "2025-04-06T13:01:16.356487Z",
     "iopub.status.idle": "2025-04-06T13:01:16.361341Z",
     "shell.execute_reply": "2025-04-06T13:01:16.360314Z"
    },
    "papermill": {
     "duration": 0.017235,
     "end_time": "2025-04-06T13:01:16.363571",
     "exception": false,
     "start_time": "2025-04-06T13:01:16.346336",
     "status": "completed"
    },
    "tags": []
   },
   "outputs": [],
   "source": [
    "pipeline = [add_action_num_reverse_chrono, add_session_length, add_log_recency_score, add_type_weighted_log_recency_score,add_timestamp_log_recency_score]"
   ]
  },
  {
   "cell_type": "code",
   "execution_count": 9,
   "id": "8923459b",
   "metadata": {
    "execution": {
     "iopub.execute_input": "2025-04-06T13:01:16.383754Z",
     "iopub.status.busy": "2025-04-06T13:01:16.383351Z",
     "iopub.status.idle": "2025-04-06T13:01:24.508157Z",
     "shell.execute_reply": "2025-04-06T13:01:24.507226Z"
    },
    "papermill": {
     "duration": 8.137807,
     "end_time": "2025-04-06T13:01:24.510762",
     "exception": false,
     "start_time": "2025-04-06T13:01:16.372955",
     "status": "completed"
    },
    "tags": []
   },
   "outputs": [],
   "source": [
    "train = apply(train, pipeline)"
   ]
  },
  {
   "cell_type": "markdown",
   "id": "579cae19",
   "metadata": {
    "papermill": {
     "duration": 0.008941,
     "end_time": "2025-04-06T13:01:24.529332",
     "exception": false,
     "start_time": "2025-04-06T13:01:24.520391",
     "status": "completed"
    },
    "tags": []
   },
   "source": [
    "All done!"
   ]
  },
  {
   "cell_type": "code",
   "execution_count": 10,
   "id": "c5a3f151",
   "metadata": {
    "execution": {
     "iopub.execute_input": "2025-04-06T13:01:24.548845Z",
     "iopub.status.busy": "2025-04-06T13:01:24.548426Z",
     "iopub.status.idle": "2025-04-06T13:01:24.559041Z",
     "shell.execute_reply": "2025-04-06T13:01:24.558023Z"
    },
    "papermill": {
     "duration": 0.022807,
     "end_time": "2025-04-06T13:01:24.561233",
     "exception": false,
     "start_time": "2025-04-06T13:01:24.538426",
     "status": "completed"
    },
    "tags": []
   },
   "outputs": [
    {
     "data": {
      "text/html": [
       "<div><style>\n",
       ".dataframe > thead > tr > th,\n",
       ".dataframe > tbody > tr > td {\n",
       "  text-align: right;\n",
       "}\n",
       "</style>\n",
       "<small>shape: (5, 9)</small><table border=\"1\" class=\"dataframe\"><thead><tr><th>session</th><th>aid</th><th>ts</th><th>type</th><th>action_num_reverse_chrono</th><th>session_length</th><th>log_recency_score</th><th>type_weighted_log_recency_score</th><th>timestamp_log_recency_score</th></tr><tr><td>i32</td><td>i32</td><td>i32</td><td>u8</td><td>u32</td><td>u32</td><td>f64</td><td>f64</td><td>f64</td></tr></thead><tbody><tr><td>11098528</td><td>11830</td><td>1661119200</td><td>0</td><td>0</td><td>1</td><td>1.0</td><td>1.0</td><td>1.0</td></tr><tr><td>11098529</td><td>1105029</td><td>1661119200</td><td>0</td><td>0</td><td>1</td><td>1.0</td><td>1.0</td><td>1.0</td></tr><tr><td>11098530</td><td>264500</td><td>1661119200</td><td>0</td><td>5</td><td>6</td><td>0.071773</td><td>0.071773</td><td>1.193447</td></tr><tr><td>11098530</td><td>264500</td><td>1661119288</td><td>0</td><td>4</td><td>6</td><td>0.214195</td><td>0.214195</td><td>1.180109</td></tr><tr><td>11098530</td><td>409236</td><td>1661119369</td><td>0</td><td>3</td><td>6</td><td>0.375542</td><td>0.375542</td><td>1.167903</td></tr></tbody></table></div>"
      ],
      "text/plain": [
       "shape: (5, 9)\n",
       "┌──────────┬─────────┬────────────┬──────┬───┬────────────┬────────────┬────────────┬──────────────┐\n",
       "│ session  ┆ aid     ┆ ts         ┆ type ┆ … ┆ session_le ┆ log_recenc ┆ type_weigh ┆ timestamp_lo │\n",
       "│ ---      ┆ ---     ┆ ---        ┆ ---  ┆   ┆ ngth       ┆ y_score    ┆ ted_log_re ┆ g_recency_sc │\n",
       "│ i32      ┆ i32     ┆ i32        ┆ u8   ┆   ┆ ---        ┆ ---        ┆ cency_scor ┆ ore          │\n",
       "│          ┆         ┆            ┆      ┆   ┆ u32        ┆ f64        ┆ e          ┆ ---          │\n",
       "│          ┆         ┆            ┆      ┆   ┆            ┆            ┆ ---        ┆ f64          │\n",
       "│          ┆         ┆            ┆      ┆   ┆            ┆            ┆ f64        ┆              │\n",
       "╞══════════╪═════════╪════════════╪══════╪═══╪════════════╪════════════╪════════════╪══════════════╡\n",
       "│ 11098528 ┆ 11830   ┆ 1661119200 ┆ 0    ┆ … ┆ 1          ┆ 1.0        ┆ 1.0        ┆ 1.0          │\n",
       "│ 11098529 ┆ 1105029 ┆ 1661119200 ┆ 0    ┆ … ┆ 1          ┆ 1.0        ┆ 1.0        ┆ 1.0          │\n",
       "│ 11098530 ┆ 264500  ┆ 1661119200 ┆ 0    ┆ … ┆ 6          ┆ 0.071773   ┆ 0.071773   ┆ 1.193447     │\n",
       "│ 11098530 ┆ 264500  ┆ 1661119288 ┆ 0    ┆ … ┆ 6          ┆ 0.214195   ┆ 0.214195   ┆ 1.180109     │\n",
       "│ 11098530 ┆ 409236  ┆ 1661119369 ┆ 0    ┆ … ┆ 6          ┆ 0.375542   ┆ 0.375542   ┆ 1.167903     │\n",
       "└──────────┴─────────┴────────────┴──────┴───┴────────────┴────────────┴────────────┴──────────────┘"
      ]
     },
     "execution_count": 10,
     "metadata": {},
     "output_type": "execute_result"
    }
   ],
   "source": [
    "train.head()"
   ]
  },
  {
   "cell_type": "markdown",
   "id": "a1424f68",
   "metadata": {
    "papermill": {
     "duration": 0.009062,
     "end_time": "2025-04-06T13:01:24.579738",
     "exception": false,
     "start_time": "2025-04-06T13:01:24.570676",
     "status": "completed"
    },
    "tags": []
   },
   "source": [
    "Now we need to process our labels a little bit and merge them onto our train set."
   ]
  },
  {
   "cell_type": "code",
   "execution_count": 11,
   "id": "bf8b9d3c",
   "metadata": {
    "execution": {
     "iopub.execute_input": "2025-04-06T13:01:24.600260Z",
     "iopub.status.busy": "2025-04-06T13:01:24.599883Z",
     "iopub.status.idle": "2025-04-06T13:01:24.605153Z",
     "shell.execute_reply": "2025-04-06T13:01:24.604006Z"
    },
    "papermill": {
     "duration": 0.018138,
     "end_time": "2025-04-06T13:01:24.607417",
     "exception": false,
     "start_time": "2025-04-06T13:01:24.589279",
     "status": "completed"
    },
    "tags": []
   },
   "outputs": [],
   "source": [
    "type2id = {\"clicks\": 0, \"carts\": 1, \"orders\": 2}"
   ]
  },
  {
   "cell_type": "code",
   "execution_count": 12,
   "id": "dee4608b",
   "metadata": {
    "execution": {
     "iopub.execute_input": "2025-04-06T13:01:24.628438Z",
     "iopub.status.busy": "2025-04-06T13:01:24.628029Z",
     "iopub.status.idle": "2025-04-06T13:01:26.122348Z",
     "shell.execute_reply": "2025-04-06T13:01:26.121092Z"
    },
    "papermill": {
     "duration": 1.507555,
     "end_time": "2025-04-06T13:01:26.124935",
     "exception": false,
     "start_time": "2025-04-06T13:01:24.617380",
     "status": "completed"
    },
    "tags": []
   },
   "outputs": [],
   "source": [
    "train_labels = train_labels.explode('ground_truth').with_columns([\n",
    "    pl.col('ground_truth').alias('aid'),\n",
    "    pl.col('type').apply(lambda x: type2id[x])\n",
    "])[['session', 'type', 'aid']]"
   ]
  },
  {
   "cell_type": "code",
   "execution_count": 13,
   "id": "a46158af",
   "metadata": {
    "execution": {
     "iopub.execute_input": "2025-04-06T13:01:26.145216Z",
     "iopub.status.busy": "2025-04-06T13:01:26.144838Z",
     "iopub.status.idle": "2025-04-06T13:01:26.191529Z",
     "shell.execute_reply": "2025-04-06T13:01:26.190294Z"
    },
    "papermill": {
     "duration": 0.05987,
     "end_time": "2025-04-06T13:01:26.194212",
     "exception": false,
     "start_time": "2025-04-06T13:01:26.134342",
     "status": "completed"
    },
    "tags": []
   },
   "outputs": [],
   "source": [
    "train_labels = train_labels.with_columns([\n",
    "    pl.col('session').cast(pl.datatypes.Int32),\n",
    "    pl.col('type').cast(pl.datatypes.UInt8),\n",
    "    pl.col('aid').cast(pl.datatypes.Int32)\n",
    "])"
   ]
  },
  {
   "cell_type": "code",
   "execution_count": 14,
   "id": "dbaedb2b",
   "metadata": {
    "execution": {
     "iopub.execute_input": "2025-04-06T13:01:26.216265Z",
     "iopub.status.busy": "2025-04-06T13:01:26.215886Z",
     "iopub.status.idle": "2025-04-06T13:01:26.229384Z",
     "shell.execute_reply": "2025-04-06T13:01:26.228457Z"
    },
    "papermill": {
     "duration": 0.026695,
     "end_time": "2025-04-06T13:01:26.231950",
     "exception": false,
     "start_time": "2025-04-06T13:01:26.205255",
     "status": "completed"
    },
    "tags": []
   },
   "outputs": [],
   "source": [
    "train_labels = train_labels.with_columns(pl.lit(1).alias('gt'))"
   ]
  },
  {
   "cell_type": "code",
   "execution_count": 15,
   "id": "4dca9366",
   "metadata": {
    "execution": {
     "iopub.execute_input": "2025-04-06T13:01:26.252569Z",
     "iopub.status.busy": "2025-04-06T13:01:26.252144Z",
     "iopub.status.idle": "2025-04-06T13:01:27.157775Z",
     "shell.execute_reply": "2025-04-06T13:01:27.156874Z"
    },
    "papermill": {
     "duration": 0.918678,
     "end_time": "2025-04-06T13:01:27.160321",
     "exception": false,
     "start_time": "2025-04-06T13:01:26.241643",
     "status": "completed"
    },
    "tags": []
   },
   "outputs": [],
   "source": [
    "train = train.join(train_labels, how='left', on=['session', 'type', 'aid']).with_columns(pl.col('gt').fill_null(0))"
   ]
  },
  {
   "cell_type": "code",
   "execution_count": 16,
   "id": "76240191",
   "metadata": {
    "execution": {
     "iopub.execute_input": "2025-04-06T13:01:27.181145Z",
     "iopub.status.busy": "2025-04-06T13:01:27.180321Z",
     "iopub.status.idle": "2025-04-06T13:01:27.204525Z",
     "shell.execute_reply": "2025-04-06T13:01:27.203028Z"
    },
    "papermill": {
     "duration": 0.037111,
     "end_time": "2025-04-06T13:01:27.206875",
     "exception": false,
     "start_time": "2025-04-06T13:01:27.169764",
     "status": "completed"
    },
    "tags": []
   },
   "outputs": [
    {
     "data": {
      "text/html": [
       "<div><style>\n",
       ".dataframe > thead > tr > th,\n",
       ".dataframe > tbody > tr > td {\n",
       "  text-align: right;\n",
       "}\n",
       "</style>\n",
       "<small>shape: (200, 10)</small><table border=\"1\" class=\"dataframe\"><thead><tr><th>session</th><th>aid</th><th>ts</th><th>type</th><th>action_num_reverse_chrono</th><th>session_length</th><th>log_recency_score</th><th>type_weighted_log_recency_score</th><th>timestamp_log_recency_score</th><th>gt</th></tr><tr><td>i32</td><td>i32</td><td>i32</td><td>u8</td><td>u32</td><td>u32</td><td>f64</td><td>f64</td><td>f64</td><td>i32</td></tr></thead><tbody><tr><td>11098528</td><td>11830</td><td>1661119200</td><td>0</td><td>0</td><td>1</td><td>1.0</td><td>1.0</td><td>1.0</td><td>0</td></tr><tr><td>11098529</td><td>1105029</td><td>1661119200</td><td>0</td><td>0</td><td>1</td><td>1.0</td><td>1.0</td><td>1.0</td><td>1</td></tr><tr><td>11098530</td><td>264500</td><td>1661119200</td><td>0</td><td>5</td><td>6</td><td>0.071773</td><td>0.071773</td><td>1.193447</td><td>0</td></tr><tr><td>11098530</td><td>264500</td><td>1661119288</td><td>0</td><td>4</td><td>6</td><td>0.214195</td><td>0.214195</td><td>1.180109</td><td>0</td></tr><tr><td>11098530</td><td>409236</td><td>1661119369</td><td>0</td><td>3</td><td>6</td><td>0.375542</td><td>0.375542</td><td>1.167903</td><td>0</td></tr><tr><td>11098530</td><td>409236</td><td>1661119441</td><td>0</td><td>2</td><td>6</td><td>0.558329</td><td>0.558329</td><td>1.15711</td><td>0</td></tr><tr><td>11098530</td><td>409236</td><td>1661120165</td><td>0</td><td>1</td><td>6</td><td>0.765406</td><td>0.765406</td><td>1.05153</td><td>0</td></tr><tr><td>11098530</td><td>409236</td><td>1661120532</td><td>1</td><td>0</td><td>6</td><td>1.0</td><td>0.166667</td><td>1.0</td><td>0</td></tr><tr><td>11098531</td><td>452188</td><td>1661119200</td><td>0</td><td>23</td><td>24</td><td>0.071773</td><td>0.071773</td><td>1.077142</td><td>0</td></tr><tr><td>11098531</td><td>1239060</td><td>1661119227</td><td>0</td><td>22</td><td>24</td><td>0.101241</td><td>0.101241</td><td>1.073258</td><td>0</td></tr><tr><td>11098531</td><td>1557766</td><td>1661119243</td><td>0</td><td>21</td><td>24</td><td>0.131519</td><td>0.131519</td><td>1.07096</td><td>0</td></tr><tr><td>11098531</td><td>452188</td><td>1661119261</td><td>0</td><td>20</td><td>24</td><td>0.162629</td><td>0.162629</td><td>1.068378</td><td>0</td></tr><tr><td>&hellip;</td><td>&hellip;</td><td>&hellip;</td><td>&hellip;</td><td>&hellip;</td><td>&hellip;</td><td>&hellip;</td><td>&hellip;</td><td>&hellip;</td><td>&hellip;</td></tr><tr><td>11098545</td><td>1240426</td><td>1661119940</td><td>0</td><td>43</td><td>49</td><td>0.143733</td><td>0.143733</td><td>1.7699e18</td><td>0</td></tr><tr><td>11098545</td><td>1677976</td><td>1661120244</td><td>0</td><td>42</td><td>49</td><td>0.158694</td><td>0.158694</td><td>1.7330e18</td><td>0</td></tr><tr><td>11098545</td><td>1240426</td><td>1661120316</td><td>0</td><td>41</td><td>49</td><td>0.173852</td><td>0.173852</td><td>1.7244e18</td><td>0</td></tr><tr><td>11098545</td><td>233689</td><td>1661120467</td><td>0</td><td>40</td><td>49</td><td>0.189207</td><td>0.189207</td><td>1.7064e18</td><td>0</td></tr><tr><td>11098545</td><td>1240426</td><td>1661120474</td><td>0</td><td>39</td><td>49</td><td>0.204764</td><td>0.204764</td><td>1.7056e18</td><td>0</td></tr><tr><td>11098545</td><td>1677976</td><td>1661120548</td><td>0</td><td>38</td><td>49</td><td>0.220523</td><td>0.220523</td><td>1.6969e18</td><td>0</td></tr><tr><td>11098545</td><td>739406</td><td>1661157757</td><td>0</td><td>37</td><td>49</td><td>0.23649</td><td>0.23649</td><td>1.2869e17</td><td>0</td></tr><tr><td>11098545</td><td>1063103</td><td>1661157776</td><td>0</td><td>36</td><td>49</td><td>0.252664</td><td>0.252664</td><td>1.2852e17</td><td>0</td></tr><tr><td>11098545</td><td>1680387</td><td>1661157823</td><td>0</td><td>35</td><td>49</td><td>0.269051</td><td>0.269051</td><td>1.2810e17</td><td>0</td></tr><tr><td>11098545</td><td>937437</td><td>1661157884</td><td>0</td><td>34</td><td>49</td><td>0.285652</td><td>0.285652</td><td>1.2756e17</td><td>0</td></tr><tr><td>11098545</td><td>1680387</td><td>1661157914</td><td>0</td><td>33</td><td>49</td><td>0.30247</td><td>0.30247</td><td>1.2730e17</td><td>0</td></tr><tr><td>11098545</td><td>1294782</td><td>1661157930</td><td>0</td><td>32</td><td>49</td><td>0.319508</td><td>0.319508</td><td>1.2716e17</td><td>0</td></tr></tbody></table></div>"
      ],
      "text/plain": [
       "shape: (200, 10)\n",
       "┌──────────┬─────────┬────────────┬──────┬───┬───────────────┬───────────────┬───────────────┬─────┐\n",
       "│ session  ┆ aid     ┆ ts         ┆ type ┆ … ┆ log_recency_s ┆ type_weighted ┆ timestamp_log ┆ gt  │\n",
       "│ ---      ┆ ---     ┆ ---        ┆ ---  ┆   ┆ core          ┆ _log_recency_ ┆ _recency_scor ┆ --- │\n",
       "│ i32      ┆ i32     ┆ i32        ┆ u8   ┆   ┆ ---           ┆ score         ┆ e             ┆ i32 │\n",
       "│          ┆         ┆            ┆      ┆   ┆ f64           ┆ ---           ┆ ---           ┆     │\n",
       "│          ┆         ┆            ┆      ┆   ┆               ┆ f64           ┆ f64           ┆     │\n",
       "╞══════════╪═════════╪════════════╪══════╪═══╪═══════════════╪═══════════════╪═══════════════╪═════╡\n",
       "│ 11098528 ┆ 11830   ┆ 1661119200 ┆ 0    ┆ … ┆ 1.0           ┆ 1.0           ┆ 1.0           ┆ 0   │\n",
       "│ 11098529 ┆ 1105029 ┆ 1661119200 ┆ 0    ┆ … ┆ 1.0           ┆ 1.0           ┆ 1.0           ┆ 1   │\n",
       "│ 11098530 ┆ 264500  ┆ 1661119200 ┆ 0    ┆ … ┆ 0.071773      ┆ 0.071773      ┆ 1.193447      ┆ 0   │\n",
       "│ 11098530 ┆ 264500  ┆ 1661119288 ┆ 0    ┆ … ┆ 0.214195      ┆ 0.214195      ┆ 1.180109      ┆ 0   │\n",
       "│ …        ┆ …       ┆ …          ┆ …    ┆ … ┆ …             ┆ …             ┆ …             ┆ …   │\n",
       "│ 11098545 ┆ 1680387 ┆ 1661157823 ┆ 0    ┆ … ┆ 0.269051      ┆ 0.269051      ┆ 1.2810e17     ┆ 0   │\n",
       "│ 11098545 ┆ 937437  ┆ 1661157884 ┆ 0    ┆ … ┆ 0.285652      ┆ 0.285652      ┆ 1.2756e17     ┆ 0   │\n",
       "│ 11098545 ┆ 1680387 ┆ 1661157914 ┆ 0    ┆ … ┆ 0.30247       ┆ 0.30247       ┆ 1.2730e17     ┆ 0   │\n",
       "│ 11098545 ┆ 1294782 ┆ 1661157930 ┆ 0    ┆ … ┆ 0.319508      ┆ 0.319508      ┆ 1.2716e17     ┆ 0   │\n",
       "└──────────┴─────────┴────────────┴──────┴───┴───────────────┴───────────────┴───────────────┴─────┘"
      ]
     },
     "execution_count": 16,
     "metadata": {},
     "output_type": "execute_result"
    }
   ],
   "source": [
    "train.head(200)"
   ]
  },
  {
   "cell_type": "markdown",
   "id": "b4f00d07",
   "metadata": {
    "papermill": {
     "duration": 0.00917,
     "end_time": "2025-04-06T13:01:27.225859",
     "exception": false,
     "start_time": "2025-04-06T13:01:27.216689",
     "status": "completed"
    },
    "tags": []
   },
   "source": [
    "Ok, so we now have our preprocessed dataset, a column with ground truth, which means that the only thing we are missing for our Ranker is... information how to group individual rows into sessions!"
   ]
  },
  {
   "cell_type": "code",
   "execution_count": 17,
   "id": "d49e70cb",
   "metadata": {
    "execution": {
     "iopub.execute_input": "2025-04-06T13:01:27.245747Z",
     "iopub.status.busy": "2025-04-06T13:01:27.245339Z",
     "iopub.status.idle": "2025-04-06T13:01:27.251245Z",
     "shell.execute_reply": "2025-04-06T13:01:27.250216Z"
    },
    "papermill": {
     "duration": 0.018607,
     "end_time": "2025-04-06T13:01:27.253594",
     "exception": false,
     "start_time": "2025-04-06T13:01:27.234987",
     "status": "completed"
    },
    "tags": []
   },
   "outputs": [],
   "source": [
    "def get_session_lenghts(df):\n",
    "    return df.groupby('session').agg([\n",
    "        pl.col('session').count().alias('session_length')\n",
    "    ])['session_length'].to_numpy()"
   ]
  },
  {
   "cell_type": "code",
   "execution_count": 18,
   "id": "19506db9",
   "metadata": {
    "execution": {
     "iopub.execute_input": "2025-04-06T13:01:27.273679Z",
     "iopub.status.busy": "2025-04-06T13:01:27.273213Z",
     "iopub.status.idle": "2025-04-06T13:01:27.278167Z",
     "shell.execute_reply": "2025-04-06T13:01:27.277124Z"
    },
    "papermill": {
     "duration": 0.017397,
     "end_time": "2025-04-06T13:01:27.280246",
     "exception": false,
     "start_time": "2025-04-06T13:01:27.262849",
     "status": "completed"
    },
    "tags": []
   },
   "outputs": [],
   "source": [
    "def get_sesssion_total_clicks(df):\n",
    "    pass\n",
    "    "
   ]
  },
  {
   "cell_type": "code",
   "execution_count": 19,
   "id": "0ddbca69",
   "metadata": {
    "execution": {
     "iopub.execute_input": "2025-04-06T13:01:27.300927Z",
     "iopub.status.busy": "2025-04-06T13:01:27.300025Z",
     "iopub.status.idle": "2025-04-06T13:01:27.641038Z",
     "shell.execute_reply": "2025-04-06T13:01:27.639857Z"
    },
    "papermill": {
     "duration": 0.353915,
     "end_time": "2025-04-06T13:01:27.643646",
     "exception": false,
     "start_time": "2025-04-06T13:01:27.289731",
     "status": "completed"
    },
    "tags": []
   },
   "outputs": [],
   "source": [
    "session_lengths_train = get_session_lenghts(train)"
   ]
  },
  {
   "cell_type": "code",
   "execution_count": 20,
   "id": "1898f433",
   "metadata": {
    "execution": {
     "iopub.execute_input": "2025-04-06T13:01:27.664633Z",
     "iopub.status.busy": "2025-04-06T13:01:27.664209Z",
     "iopub.status.idle": "2025-04-06T13:01:27.672543Z",
     "shell.execute_reply": "2025-04-06T13:01:27.671273Z"
    },
    "papermill": {
     "duration": 0.021995,
     "end_time": "2025-04-06T13:01:27.675279",
     "exception": false,
     "start_time": "2025-04-06T13:01:27.653284",
     "status": "completed"
    },
    "tags": []
   },
   "outputs": [
    {
     "name": "stdout",
     "output_type": "stream",
     "text": [
      "[1 1 1 ... 7 2 2]\n",
      "We have total 1801251 sessions out of total .\n"
     ]
    }
   ],
   "source": [
    "print(session_lengths_train)\n",
    "print(f\"We have total {len(session_lengths_train)} sessions out of total .\")"
   ]
  },
  {
   "cell_type": "markdown",
   "id": "f0512588",
   "metadata": {
    "papermill": {
     "duration": 0.009229,
     "end_time": "2025-04-06T13:01:27.699266",
     "exception": false,
     "start_time": "2025-04-06T13:01:27.690037",
     "status": "completed"
    },
    "tags": []
   },
   "source": [
    "# Model training"
   ]
  },
  {
   "cell_type": "code",
   "execution_count": 21,
   "id": "d58c99bd",
   "metadata": {
    "execution": {
     "iopub.execute_input": "2025-04-06T13:01:27.720050Z",
     "iopub.status.busy": "2025-04-06T13:01:27.719685Z",
     "iopub.status.idle": "2025-04-06T13:01:29.920811Z",
     "shell.execute_reply": "2025-04-06T13:01:29.919565Z"
    },
    "papermill": {
     "duration": 2.214639,
     "end_time": "2025-04-06T13:01:29.923422",
     "exception": false,
     "start_time": "2025-04-06T13:01:27.708783",
     "status": "completed"
    },
    "tags": []
   },
   "outputs": [
    {
     "data": {
      "text/html": [
       "<style type='text/css'>\n",
       ".datatable table.frame { margin-bottom: 0; }\n",
       ".datatable table.frame thead { border-bottom: none; }\n",
       ".datatable table.frame tr.coltypes td {  color: #FFFFFF;  line-height: 6px;  padding: 0 0.5em;}\n",
       ".datatable .bool    { background: #DDDD99; }\n",
       ".datatable .object  { background: #565656; }\n",
       ".datatable .int     { background: #5D9E5D; }\n",
       ".datatable .float   { background: #4040CC; }\n",
       ".datatable .str     { background: #CC4040; }\n",
       ".datatable .time    { background: #40CC40; }\n",
       ".datatable .row_index {  background: var(--jp-border-color3);  border-right: 1px solid var(--jp-border-color0);  color: var(--jp-ui-font-color3);  font-size: 9px;}\n",
       ".datatable .frame tbody td { text-align: left; }\n",
       ".datatable .frame tr.coltypes .row_index {  background: var(--jp-border-color0);}\n",
       ".datatable th:nth-child(2) { padding-left: 12px; }\n",
       ".datatable .hellipsis {  color: var(--jp-cell-editor-border-color);}\n",
       ".datatable .vellipsis {  background: var(--jp-layout-color0);  color: var(--jp-cell-editor-border-color);}\n",
       ".datatable .na {  color: var(--jp-cell-editor-border-color);  font-size: 80%;}\n",
       ".datatable .sp {  opacity: 0.25;}\n",
       ".datatable .footer { font-size: 9px; }\n",
       ".datatable .frame_dimensions {  background: var(--jp-border-color3);  border-top: 1px solid var(--jp-border-color0);  color: var(--jp-ui-font-color3);  display: inline-block;  opacity: 0.6;  padding: 1px 10px 1px 5px;}\n",
       "</style>\n"
      ],
      "text/plain": [
       "<IPython.core.display.HTML object>"
      ]
     },
     "metadata": {},
     "output_type": "display_data"
    }
   ],
   "source": [
    "from lightgbm.sklearn import LGBMRanker"
   ]
  },
  {
   "cell_type": "code",
   "execution_count": 22,
   "id": "755dc708",
   "metadata": {
    "execution": {
     "iopub.execute_input": "2025-04-06T13:01:29.947421Z",
     "iopub.status.busy": "2025-04-06T13:01:29.946997Z",
     "iopub.status.idle": "2025-04-06T13:01:29.952590Z",
     "shell.execute_reply": "2025-04-06T13:01:29.951469Z"
    },
    "papermill": {
     "duration": 0.02026,
     "end_time": "2025-04-06T13:01:29.955072",
     "exception": false,
     "start_time": "2025-04-06T13:01:29.934812",
     "status": "completed"
    },
    "tags": []
   },
   "outputs": [],
   "source": [
    "ranker = LGBMRanker(\n",
    "    objective=\"lambdarank\",\n",
    "    metric=\"ndcg\",\n",
    "    boosting_type=\"dart\",\n",
    "    n_estimators=20,\n",
    "    importance_type='gain',\n",
    ")"
   ]
  },
  {
   "cell_type": "code",
   "execution_count": 23,
   "id": "6cdd31eb",
   "metadata": {
    "execution": {
     "iopub.execute_input": "2025-04-06T13:01:29.977420Z",
     "iopub.status.busy": "2025-04-06T13:01:29.976329Z",
     "iopub.status.idle": "2025-04-06T13:01:29.983687Z",
     "shell.execute_reply": "2025-04-06T13:01:29.982449Z"
    },
    "papermill": {
     "duration": 0.020585,
     "end_time": "2025-04-06T13:01:29.985714",
     "exception": false,
     "start_time": "2025-04-06T13:01:29.965129",
     "status": "completed"
    },
    "tags": []
   },
   "outputs": [
    {
     "data": {
      "text/plain": [
       "['session',\n",
       " 'aid',\n",
       " 'ts',\n",
       " 'type',\n",
       " 'action_num_reverse_chrono',\n",
       " 'session_length',\n",
       " 'log_recency_score',\n",
       " 'type_weighted_log_recency_score',\n",
       " 'timestamp_log_recency_score',\n",
       " 'gt']"
      ]
     },
     "execution_count": 23,
     "metadata": {},
     "output_type": "execute_result"
    }
   ],
   "source": [
    "train.columns"
   ]
  },
  {
   "cell_type": "code",
   "execution_count": 24,
   "id": "605cf499",
   "metadata": {
    "execution": {
     "iopub.execute_input": "2025-04-06T13:01:30.007072Z",
     "iopub.status.busy": "2025-04-06T13:01:30.006706Z",
     "iopub.status.idle": "2025-04-06T13:01:30.011807Z",
     "shell.execute_reply": "2025-04-06T13:01:30.010682Z"
    },
    "papermill": {
     "duration": 0.018658,
     "end_time": "2025-04-06T13:01:30.014172",
     "exception": false,
     "start_time": "2025-04-06T13:01:29.995514",
     "status": "completed"
    },
    "tags": []
   },
   "outputs": [],
   "source": [
    "feature_cols = ['aid', 'type', 'action_num_reverse_chrono', 'session_length', 'log_recency_score', 'type_weighted_log_recency_score', 'timestamp_log_recency_score']\n",
    "target = 'gt'"
   ]
  },
  {
   "cell_type": "code",
   "execution_count": 25,
   "id": "a35c0ea8",
   "metadata": {
    "execution": {
     "iopub.execute_input": "2025-04-06T13:01:30.036240Z",
     "iopub.status.busy": "2025-04-06T13:01:30.035874Z",
     "iopub.status.idle": "2025-04-06T13:01:46.064425Z",
     "shell.execute_reply": "2025-04-06T13:01:46.063546Z"
    },
    "papermill": {
     "duration": 16.043209,
     "end_time": "2025-04-06T13:01:46.067562",
     "exception": false,
     "start_time": "2025-04-06T13:01:30.024353",
     "status": "completed"
    },
    "tags": []
   },
   "outputs": [],
   "source": [
    "ranker = ranker.fit(\n",
    "    train[feature_cols].to_pandas(),\n",
    "    train[target].to_pandas(),\n",
    "    group=session_lengths_train,\n",
    ")"
   ]
  },
  {
   "cell_type": "markdown",
   "id": "4444937c",
   "metadata": {
    "papermill": {
     "duration": 0.009411,
     "end_time": "2025-04-06T13:01:46.089556",
     "exception": false,
     "start_time": "2025-04-06T13:01:46.080145",
     "status": "completed"
    },
    "tags": []
   },
   "source": [
    "# Predict on test data"
   ]
  },
  {
   "cell_type": "markdown",
   "id": "b254f8f8",
   "metadata": {
    "papermill": {
     "duration": 0.00939,
     "end_time": "2025-04-06T13:01:46.108691",
     "exception": false,
     "start_time": "2025-04-06T13:01:46.099301",
     "status": "completed"
    },
    "tags": []
   },
   "source": [
    "Let's load our test set, process it and predict on it."
   ]
  },
  {
   "cell_type": "code",
   "execution_count": 26,
   "id": "0ed5778d",
   "metadata": {
    "execution": {
     "iopub.execute_input": "2025-04-06T13:01:46.130474Z",
     "iopub.status.busy": "2025-04-06T13:01:46.130009Z",
     "iopub.status.idle": "2025-04-06T13:01:54.415300Z",
     "shell.execute_reply": "2025-04-06T13:01:54.414062Z"
    },
    "papermill": {
     "duration": 8.299167,
     "end_time": "2025-04-06T13:01:54.417645",
     "exception": false,
     "start_time": "2025-04-06T13:01:46.118478",
     "status": "completed"
    },
    "tags": []
   },
   "outputs": [
    {
     "name": "stdout",
     "output_type": "stream",
     "text": [
      "shape: (6_928_123, 9)\n",
      "┌──────────┬─────────┬────────────┬──────┬───┬────────────┬────────────┬────────────┬──────────────┐\n",
      "│ session  ┆ aid     ┆ ts         ┆ type ┆ … ┆ session_le ┆ log_recenc ┆ type_weigh ┆ timestamp_lo │\n",
      "│ ---      ┆ ---     ┆ ---        ┆ ---  ┆   ┆ ngth       ┆ y_score    ┆ ted_log_re ┆ g_recency_sc │\n",
      "│ i32      ┆ i32     ┆ i32        ┆ u8   ┆   ┆ ---        ┆ ---        ┆ cency_scor ┆ ore          │\n",
      "│          ┆         ┆            ┆      ┆   ┆ u32        ┆ f64        ┆ e          ┆ ---          │\n",
      "│          ┆         ┆            ┆      ┆   ┆            ┆            ┆ ---        ┆ f64          │\n",
      "│          ┆         ┆            ┆      ┆   ┆            ┆            ┆ f64        ┆              │\n",
      "╞══════════╪═════════╪════════════╪══════╪═══╪════════════╪════════════╪════════════╪══════════════╡\n",
      "│ 12899779 ┆ 59625   ┆ 1661724000 ┆ 0    ┆ … ┆ 1          ┆ 1.0        ┆ 1.0        ┆ 1.0          │\n",
      "│ 12899780 ┆ 1142000 ┆ 1661724000 ┆ 0    ┆ … ┆ 5          ┆ 0.071773   ┆ 0.071773   ┆ 1.021603     │\n",
      "│ 12899780 ┆ 582732  ┆ 1661724058 ┆ 0    ┆ … ┆ 5          ┆ 0.252664   ┆ 0.252664   ┆ 1.013492     │\n",
      "│ 12899780 ┆ 973453  ┆ 1661724109 ┆ 0    ┆ … ┆ 5          ┆ 0.464086   ┆ 0.464086   ┆ 1.006387     │\n",
      "│ …        ┆ …       ┆ …          ┆ …    ┆ … ┆ …          ┆ …          ┆ …          ┆ …            │\n",
      "│ 14571578 ┆ 519105  ┆ 1662328775 ┆ 0    ┆ … ┆ 1          ┆ 1.0        ┆ 1.0        ┆ 1.0          │\n",
      "│ 14571579 ┆ 739876  ┆ 1662328775 ┆ 0    ┆ … ┆ 1          ┆ 1.0        ┆ 1.0        ┆ 1.0          │\n",
      "│ 14571580 ┆ 202353  ┆ 1662328781 ┆ 0    ┆ … ┆ 1          ┆ 1.0        ┆ 1.0        ┆ 1.0          │\n",
      "│ 14571581 ┆ 1100210 ┆ 1662328791 ┆ 0    ┆ … ┆ 1          ┆ 1.0        ┆ 1.0        ┆ 1.0          │\n",
      "└──────────┴─────────┴────────────┴──────┴───┴────────────┴────────────┴────────────┴──────────────┘\n"
     ]
    }
   ],
   "source": [
    "test = pl.read_parquet('../input/otto-full-optimized-memory-footprint/test.parquet')\n",
    "test = apply(test, pipeline)\n",
    "print(test)"
   ]
  },
  {
   "cell_type": "code",
   "execution_count": 27,
   "id": "f3b38c2a",
   "metadata": {
    "execution": {
     "iopub.execute_input": "2025-04-06T13:01:54.438939Z",
     "iopub.status.busy": "2025-04-06T13:01:54.438583Z",
     "iopub.status.idle": "2025-04-06T13:01:57.701881Z",
     "shell.execute_reply": "2025-04-06T13:01:57.700907Z"
    },
    "papermill": {
     "duration": 3.276951,
     "end_time": "2025-04-06T13:01:57.704531",
     "exception": false,
     "start_time": "2025-04-06T13:01:54.427580",
     "status": "completed"
    },
    "tags": []
   },
   "outputs": [
    {
     "name": "stdout",
     "output_type": "stream",
     "text": [
      "[ 0.23992961 -0.31695035 -0.12408719 ...  0.23897263  0.23992961\n",
      "  0.23897263]\n"
     ]
    }
   ],
   "source": [
    "scores = ranker.predict(test[feature_cols].to_pandas())\n",
    "print(scores)"
   ]
  },
  {
   "cell_type": "markdown",
   "id": "31c8fe2e",
   "metadata": {
    "papermill": {
     "duration": 0.009618,
     "end_time": "2025-04-06T13:01:57.725804",
     "exception": false,
     "start_time": "2025-04-06T13:01:57.716186",
     "status": "completed"
    },
    "tags": []
   },
   "source": [
    "# Create submission"
   ]
  },
  {
   "cell_type": "code",
   "execution_count": 28,
   "id": "82e887ab",
   "metadata": {
    "execution": {
     "iopub.execute_input": "2025-04-06T13:01:57.747658Z",
     "iopub.status.busy": "2025-04-06T13:01:57.747199Z",
     "iopub.status.idle": "2025-04-06T13:01:58.482987Z",
     "shell.execute_reply": "2025-04-06T13:01:58.482028Z"
    },
    "papermill": {
     "duration": 0.750103,
     "end_time": "2025-04-06T13:01:58.485853",
     "exception": false,
     "start_time": "2025-04-06T13:01:57.735750",
     "status": "completed"
    },
    "tags": []
   },
   "outputs": [],
   "source": [
    "test = test.with_columns(pl.Series(name='score', values=scores))\n",
    "test_predictions = test.sort(['session', 'score'], descending =True).groupby('session').agg([\n",
    "    pl.col(\"aid\").limit(20)\n",
    "])"
   ]
  },
  {
   "cell_type": "code",
   "execution_count": 29,
   "id": "c828b30a",
   "metadata": {
    "execution": {
     "iopub.execute_input": "2025-04-06T13:01:58.508024Z",
     "iopub.status.busy": "2025-04-06T13:01:58.507641Z",
     "iopub.status.idle": "2025-04-06T13:01:58.519686Z",
     "shell.execute_reply": "2025-04-06T13:01:58.518609Z"
    },
    "papermill": {
     "duration": 0.025825,
     "end_time": "2025-04-06T13:01:58.521945",
     "exception": false,
     "start_time": "2025-04-06T13:01:58.496120",
     "status": "completed"
    },
    "tags": []
   },
   "outputs": [
    {
     "data": {
      "text/html": [
       "<div><style>\n",
       ".dataframe > thead > tr > th,\n",
       ".dataframe > tbody > tr > td {\n",
       "  text-align: right;\n",
       "}\n",
       "</style>\n",
       "<small>shape: (5, 10)</small><table border=\"1\" class=\"dataframe\"><thead><tr><th>session</th><th>aid</th><th>ts</th><th>type</th><th>action_num_reverse_chrono</th><th>session_length</th><th>log_recency_score</th><th>type_weighted_log_recency_score</th><th>timestamp_log_recency_score</th><th>score</th></tr><tr><td>i32</td><td>i32</td><td>i32</td><td>u8</td><td>u32</td><td>u32</td><td>f64</td><td>f64</td><td>f64</td><td>f64</td></tr></thead><tbody><tr><td>12899779</td><td>59625</td><td>1661724000</td><td>0</td><td>0</td><td>1</td><td>1.0</td><td>1.0</td><td>1.0</td><td>0.23993</td></tr><tr><td>12899780</td><td>1142000</td><td>1661724000</td><td>0</td><td>4</td><td>5</td><td>0.071773</td><td>0.071773</td><td>1.021603</td><td>-0.31695</td></tr><tr><td>12899780</td><td>582732</td><td>1661724058</td><td>0</td><td>3</td><td>5</td><td>0.252664</td><td>0.252664</td><td>1.013492</td><td>-0.124087</td></tr><tr><td>12899780</td><td>973453</td><td>1661724109</td><td>0</td><td>2</td><td>5</td><td>0.464086</td><td>0.464086</td><td>1.006387</td><td>-0.242974</td></tr><tr><td>12899780</td><td>736515</td><td>1661724136</td><td>0</td><td>1</td><td>5</td><td>0.71119</td><td>0.71119</td><td>1.002636</td><td>0.200949</td></tr></tbody></table></div>"
      ],
      "text/plain": [
       "shape: (5, 10)\n",
       "┌──────────┬─────────┬────────────┬──────┬───┬────────────┬────────────┬───────────────┬───────────┐\n",
       "│ session  ┆ aid     ┆ ts         ┆ type ┆ … ┆ log_recenc ┆ type_weigh ┆ timestamp_log ┆ score     │\n",
       "│ ---      ┆ ---     ┆ ---        ┆ ---  ┆   ┆ y_score    ┆ ted_log_re ┆ _recency_scor ┆ ---       │\n",
       "│ i32      ┆ i32     ┆ i32        ┆ u8   ┆   ┆ ---        ┆ cency_scor ┆ e             ┆ f64       │\n",
       "│          ┆         ┆            ┆      ┆   ┆ f64        ┆ e          ┆ ---           ┆           │\n",
       "│          ┆         ┆            ┆      ┆   ┆            ┆ ---        ┆ f64           ┆           │\n",
       "│          ┆         ┆            ┆      ┆   ┆            ┆ f64        ┆               ┆           │\n",
       "╞══════════╪═════════╪════════════╪══════╪═══╪════════════╪════════════╪═══════════════╪═══════════╡\n",
       "│ 12899779 ┆ 59625   ┆ 1661724000 ┆ 0    ┆ … ┆ 1.0        ┆ 1.0        ┆ 1.0           ┆ 0.23993   │\n",
       "│ 12899780 ┆ 1142000 ┆ 1661724000 ┆ 0    ┆ … ┆ 0.071773   ┆ 0.071773   ┆ 1.021603      ┆ -0.31695  │\n",
       "│ 12899780 ┆ 582732  ┆ 1661724058 ┆ 0    ┆ … ┆ 0.252664   ┆ 0.252664   ┆ 1.013492      ┆ -0.124087 │\n",
       "│ 12899780 ┆ 973453  ┆ 1661724109 ┆ 0    ┆ … ┆ 0.464086   ┆ 0.464086   ┆ 1.006387      ┆ -0.242974 │\n",
       "│ 12899780 ┆ 736515  ┆ 1661724136 ┆ 0    ┆ … ┆ 0.71119    ┆ 0.71119    ┆ 1.002636      ┆ 0.200949  │\n",
       "└──────────┴─────────┴────────────┴──────┴───┴────────────┴────────────┴───────────────┴───────────┘"
      ]
     },
     "execution_count": 29,
     "metadata": {},
     "output_type": "execute_result"
    }
   ],
   "source": [
    "test.head()"
   ]
  },
  {
   "cell_type": "code",
   "execution_count": 30,
   "id": "b893d765",
   "metadata": {
    "execution": {
     "iopub.execute_input": "2025-04-06T13:01:58.544454Z",
     "iopub.status.busy": "2025-04-06T13:01:58.544012Z",
     "iopub.status.idle": "2025-04-06T13:01:58.552603Z",
     "shell.execute_reply": "2025-04-06T13:01:58.551415Z"
    },
    "papermill": {
     "duration": 0.022433,
     "end_time": "2025-04-06T13:01:58.554727",
     "exception": false,
     "start_time": "2025-04-06T13:01:58.532294",
     "status": "completed"
    },
    "tags": []
   },
   "outputs": [
    {
     "data": {
      "text/html": [
       "<div><style>\n",
       ".dataframe > thead > tr > th,\n",
       ".dataframe > tbody > tr > td {\n",
       "  text-align: right;\n",
       "}\n",
       "</style>\n",
       "<small>shape: (5, 2)</small><table border=\"1\" class=\"dataframe\"><thead><tr><th>session</th><th>aid</th></tr><tr><td>i32</td><td>list[i32]</td></tr></thead><tbody><tr><td>14571581</td><td>[1100210]</td></tr><tr><td>14571580</td><td>[202353]</td></tr><tr><td>14571579</td><td>[739876]</td></tr><tr><td>14571578</td><td>[519105]</td></tr><tr><td>14571577</td><td>[1141710]</td></tr></tbody></table></div>"
      ],
      "text/plain": [
       "shape: (5, 2)\n",
       "┌──────────┬───────────┐\n",
       "│ session  ┆ aid       │\n",
       "│ ---      ┆ ---       │\n",
       "│ i32      ┆ list[i32] │\n",
       "╞══════════╪═══════════╡\n",
       "│ 14571581 ┆ [1100210] │\n",
       "│ 14571580 ┆ [202353]  │\n",
       "│ 14571579 ┆ [739876]  │\n",
       "│ 14571578 ┆ [519105]  │\n",
       "│ 14571577 ┆ [1141710] │\n",
       "└──────────┴───────────┘"
      ]
     },
     "execution_count": 30,
     "metadata": {},
     "output_type": "execute_result"
    }
   ],
   "source": [
    "test_predictions.head()"
   ]
  },
  {
   "cell_type": "code",
   "execution_count": 31,
   "id": "015feaa0",
   "metadata": {
    "execution": {
     "iopub.execute_input": "2025-04-06T13:01:58.576967Z",
     "iopub.status.busy": "2025-04-06T13:01:58.576566Z",
     "iopub.status.idle": "2025-04-06T13:01:58.582287Z",
     "shell.execute_reply": "2025-04-06T13:01:58.581180Z"
    },
    "papermill": {
     "duration": 0.019695,
     "end_time": "2025-04-06T13:01:58.584753",
     "exception": false,
     "start_time": "2025-04-06T13:01:58.565058",
     "status": "completed"
    },
    "tags": []
   },
   "outputs": [
    {
     "name": "stdout",
     "output_type": "stream",
     "text": [
      "Number of rows: 1671803\n"
     ]
    }
   ],
   "source": [
    "num_rows = test_predictions.shape[0]\n",
    "print(\"Number of rows:\", num_rows)"
   ]
  },
  {
   "cell_type": "code",
   "execution_count": 32,
   "id": "db71e6b9",
   "metadata": {
    "execution": {
     "iopub.execute_input": "2025-04-06T13:01:58.607692Z",
     "iopub.status.busy": "2025-04-06T13:01:58.606924Z",
     "iopub.status.idle": "2025-04-06T13:02:08.769436Z",
     "shell.execute_reply": "2025-04-06T13:02:08.768364Z"
    },
    "papermill": {
     "duration": 10.177179,
     "end_time": "2025-04-06T13:02:08.772556",
     "exception": false,
     "start_time": "2025-04-06T13:01:58.595377",
     "status": "completed"
    },
    "tags": []
   },
   "outputs": [],
   "source": [
    "session_types = []\n",
    "labels = []\n",
    "\n",
    "for session, preds in zip(test_predictions['session'].to_numpy(), test_predictions['aid'].to_numpy()):\n",
    "    l = ' '.join(str(p) for p in preds)\n",
    "    for session_type in ['clicks', 'carts', 'orders']:\n",
    "        labels.append(l)\n",
    "        session_types.append(f'{session}_{session_type}')"
   ]
  },
  {
   "cell_type": "code",
   "execution_count": 33,
   "id": "c2169ef1",
   "metadata": {
    "execution": {
     "iopub.execute_input": "2025-04-06T13:02:08.795136Z",
     "iopub.status.busy": "2025-04-06T13:02:08.794781Z",
     "iopub.status.idle": "2025-04-06T13:02:11.400823Z",
     "shell.execute_reply": "2025-04-06T13:02:11.399843Z"
    },
    "papermill": {
     "duration": 2.620082,
     "end_time": "2025-04-06T13:02:11.403377",
     "exception": false,
     "start_time": "2025-04-06T13:02:08.783295",
     "status": "completed"
    },
    "tags": []
   },
   "outputs": [],
   "source": [
    "submission = pl.DataFrame({'session_type': session_types, 'labels': labels})\n",
    "submission.write_csv('submission.csv')"
   ]
  },
  {
   "cell_type": "code",
   "execution_count": 34,
   "id": "5f745237",
   "metadata": {
    "execution": {
     "iopub.execute_input": "2025-04-06T13:02:11.425615Z",
     "iopub.status.busy": "2025-04-06T13:02:11.425184Z",
     "iopub.status.idle": "2025-04-06T13:02:11.433939Z",
     "shell.execute_reply": "2025-04-06T13:02:11.432817Z"
    },
    "papermill": {
     "duration": 0.022449,
     "end_time": "2025-04-06T13:02:11.436163",
     "exception": false,
     "start_time": "2025-04-06T13:02:11.413714",
     "status": "completed"
    },
    "tags": []
   },
   "outputs": [
    {
     "data": {
      "text/html": [
       "<div><style>\n",
       ".dataframe > thead > tr > th,\n",
       ".dataframe > tbody > tr > td {\n",
       "  text-align: right;\n",
       "}\n",
       "</style>\n",
       "<small>shape: (10, 2)</small><table border=\"1\" class=\"dataframe\"><thead><tr><th>session_type</th><th>labels</th></tr><tr><td>str</td><td>str</td></tr></thead><tbody><tr><td>&quot;14571581_click…</td><td>&quot;1100210&quot;</td></tr><tr><td>&quot;14571581_carts…</td><td>&quot;1100210&quot;</td></tr><tr><td>&quot;14571581_order…</td><td>&quot;1100210&quot;</td></tr><tr><td>&quot;14571580_click…</td><td>&quot;202353&quot;</td></tr><tr><td>&quot;14571580_carts…</td><td>&quot;202353&quot;</td></tr><tr><td>&quot;14571580_order…</td><td>&quot;202353&quot;</td></tr><tr><td>&quot;14571579_click…</td><td>&quot;739876&quot;</td></tr><tr><td>&quot;14571579_carts…</td><td>&quot;739876&quot;</td></tr><tr><td>&quot;14571579_order…</td><td>&quot;739876&quot;</td></tr><tr><td>&quot;14571578_click…</td><td>&quot;519105&quot;</td></tr></tbody></table></div>"
      ],
      "text/plain": [
       "shape: (10, 2)\n",
       "┌─────────────────┬─────────┐\n",
       "│ session_type    ┆ labels  │\n",
       "│ ---             ┆ ---     │\n",
       "│ str             ┆ str     │\n",
       "╞═════════════════╪═════════╡\n",
       "│ 14571581_clicks ┆ 1100210 │\n",
       "│ 14571581_carts  ┆ 1100210 │\n",
       "│ 14571581_orders ┆ 1100210 │\n",
       "│ 14571580_clicks ┆ 202353  │\n",
       "│ …               ┆ …       │\n",
       "│ 14571579_clicks ┆ 739876  │\n",
       "│ 14571579_carts  ┆ 739876  │\n",
       "│ 14571579_orders ┆ 739876  │\n",
       "│ 14571578_clicks ┆ 519105  │\n",
       "└─────────────────┴─────────┘"
      ]
     },
     "execution_count": 34,
     "metadata": {},
     "output_type": "execute_result"
    }
   ],
   "source": [
    "submission.head(10)"
   ]
  }
 ],
 "metadata": {
  "kaggle": {
   "accelerator": "none",
   "dataSources": [
    {
     "databundleVersionId": 4493939,
     "sourceId": 38760,
     "sourceType": "competition"
    },
    {
     "datasetId": 2611514,
     "sourceId": 4461402,
     "sourceType": "datasetVersion"
    },
    {
     "datasetId": 2601572,
     "sourceId": 4474043,
     "sourceType": "datasetVersion"
    }
   ],
   "dockerImageVersionId": 30301,
   "isGpuEnabled": false,
   "isInternetEnabled": true,
   "language": "python",
   "sourceType": "notebook"
  },
  "kernelspec": {
   "display_name": "Python 3",
   "language": "python",
   "name": "python3"
  },
  "language_info": {
   "codemirror_mode": {
    "name": "ipython",
    "version": 3
   },
   "file_extension": ".py",
   "mimetype": "text/x-python",
   "name": "python",
   "nbconvert_exporter": "python",
   "pygments_lexer": "ipython3",
   "version": "3.7.12"
  },
  "papermill": {
   "default_parameters": {},
   "duration": 92.75328,
   "end_time": "2025-04-06T13:02:13.473201",
   "environment_variables": {},
   "exception": null,
   "input_path": "__notebook__.ipynb",
   "output_path": "__notebook__.ipynb",
   "parameters": {},
   "start_time": "2025-04-06T13:00:40.719921",
   "version": "2.3.4"
  }
 },
 "nbformat": 4,
 "nbformat_minor": 5
}
